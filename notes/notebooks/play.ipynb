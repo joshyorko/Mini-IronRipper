{
 "cells": [
  {
   "cell_type": "code",
   "execution_count": null,
   "metadata": {},
   "outputs": [],
   "source": [
    "import boto3\n",
    "\n",
    "# Create an S3 client\n",
    "s3 = boto3.client('s3')\n",
    "\n",
    "# File to upload\n",
    "file_name = 'file_1.pdf'  # Path to local file\n",
    "\n",
    "# S3 bucket name\n",
    "bucket_name = 'your-bucket-name'  # Name of your S3 bucket\n",
    "\n",
    "# S3 bucket name\n",
    "bucket_name = 'pdf-docusense2'  # Name of your S3 bucket\n",
    "\n",
    "# Upload the file\n",
    "s3.upload_file(file_name, bucket_name, file_name)\n",
    "print(f'{file_name} uploaded to {bucket_name}.')\n"
   ]
  },
  {
   "cell_type": "code",
   "execution_count": null,
   "metadata": {},
   "outputs": [],
   "source": [
    "import boto3\n",
    "\n",
    "s3 = boto3.resource('s3')\n",
    "\n",
    "bucket = s3.Bucket('pdf-docusense2')\n",
    "\n",
    "for obj in bucket.objects.all():\n",
    "    print(obj.key)\n"
   ]
  },
  {
   "cell_type": "code",
   "execution_count": null,
   "metadata": {},
   "outputs": [],
   "source": [
    "import boto3\n",
    "\n",
    "s3 = boto3.client('s3')\n",
    "\n",
    "def create_presigned_url(bucket_name, object_name, expiration=3600):\n",
    "    \"\"\"Generate a presigned URL to share an S3 object\n",
    "\n",
    "    :param bucket_name: string\n",
    "    :param object_name: string\n",
    "    :param expiration: Time in seconds for the presigned URL to remain valid\n",
    "    :return: Presigned URL as string. If error, returns None.\n",
    "    \"\"\"\n",
    "\n",
    "    try:\n",
    "        response = s3.generate_presigned_url('get_object',\n",
    "                                             Params={'Bucket': bucket_name,\n",
    "                                                     'Key': object_name},\n",
    "                                             ExpiresIn=expiration)\n",
    "    except Exception as e:\n",
    "        print(e)\n",
    "        return None\n",
    "\n",
    "    # The response contains the presigned URL\n",
    "    return response\n",
    "\n",
    "# Usage\n",
    "url = create_presigned_url('pdf-docusense2', 'file_1.pdf')\n",
    "print(url)\n"
   ]
  }
 ],
 "metadata": {
  "kernelspec": {
   "display_name": "gain_ocr",
   "language": "python",
   "name": "python3"
  },
  "language_info": {
   "codemirror_mode": {
    "name": "ipython",
    "version": 3
   },
   "file_extension": ".py",
   "mimetype": "text/x-python",
   "name": "python",
   "nbconvert_exporter": "python",
   "pygments_lexer": "ipython3",
   "version": "3.10.6"
  },
  "orig_nbformat": 4
 },
 "nbformat": 4,
 "nbformat_minor": 2
}
